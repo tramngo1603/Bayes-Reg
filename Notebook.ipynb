{
 "cells": [
  {
   "cell_type": "markdown",
   "id": "7a495408-9e83-4ac0-8729-fdf2e71c056d",
   "metadata": {},
   "source": [
    "## 1. Data Loading & Processing"
   ]
  },
  {
   "cell_type": "code",
   "execution_count": 11,
   "id": "2438e57b-6f26-4629-9f67-b8a9660f6c02",
   "metadata": {},
   "outputs": [
    {
     "name": "stdout",
     "output_type": "stream",
     "text": [
      "Missing values in each column:\n",
      "MedInc         0\n",
      "HouseAge       0\n",
      "AveRooms       0\n",
      "AveBedrms      0\n",
      "Population     0\n",
      "AveOccup       0\n",
      "Latitude       0\n",
      "Longitude      0\n",
      "MedHouseVal    0\n",
      "dtype: int64\n",
      "\n",
      "Descriptive statistics:\n",
      "             MedInc      HouseAge      AveRooms     AveBedrms    Population  \\\n",
      "count  20640.000000  20640.000000  20640.000000  20640.000000  20640.000000   \n",
      "mean       3.870671     28.639486      5.429000      1.096675   1425.476744   \n",
      "std        1.899822     12.585558      2.474173      0.473911   1132.462122   \n",
      "min        0.499900      1.000000      0.846154      0.333333      3.000000   \n",
      "25%        2.563400     18.000000      4.440716      1.006079    787.000000   \n",
      "50%        3.534800     29.000000      5.229129      1.048780   1166.000000   \n",
      "75%        4.743250     37.000000      6.052381      1.099526   1725.000000   \n",
      "max       15.000100     52.000000    141.909091     34.066667  35682.000000   \n",
      "\n",
      "           AveOccup      Latitude     Longitude   MedHouseVal  \n",
      "count  20640.000000  20640.000000  20640.000000  20640.000000  \n",
      "mean       3.070655     35.631861   -119.569704      2.068558  \n",
      "std       10.386050      2.135952      2.003532      1.153956  \n",
      "min        0.692308     32.540000   -124.350000      0.149990  \n",
      "25%        2.429741     33.930000   -121.800000      1.196000  \n",
      "50%        2.818116     34.260000   -118.490000      1.797000  \n",
      "75%        3.282261     37.710000   -118.010000      2.647250  \n",
      "max     1243.333333     41.950000   -114.310000      5.000010  \n"
     ]
    }
   ],
   "source": [
    "import numpy as np\n",
    "import pandas as pd\n",
    "import matplotlib.pyplot as plt\n",
    "import seaborn as sns\n",
    "from sklearn.datasets import fetch_california_housing\n",
    "from sklearn.impute import SimpleImputer\n",
    "from statsmodels.stats.outliers_influence import variance_inflation_factor\n",
    "from sklearn.feature_selection import f_regression, SelectKBest\n",
    "from sklearn.linear_model import Ridge, Lasso\n",
    "from sklearn.model_selection import train_test_split\n",
    "from sklearn.preprocessing import StandardScaler\n",
    "\n",
    "# Load the dataset\n",
    "california = fetch_california_housing()\n",
    "df = pd.DataFrame(california.data, columns=california.feature_names)\n",
    "df['MedHouseVal'] = california.target\n",
    "\n",
    "# Check for missing values\n",
    "print(\"Missing values in each column:\")\n",
    "print(df.isnull().sum())\n",
    "\n",
    "# Handle missing values (if any)\n",
    "imputer = SimpleImputer(strategy='mean')\n",
    "df_imputed = pd.DataFrame(imputer.fit_transform(df), columns=df.columns)\n",
    "\n",
    "# Check for data inconsistencies\n",
    "print(\"\\nDescriptive statistics:\")\n",
    "print(df_imputed.describe())"
   ]
  },
  {
   "cell_type": "markdown",
   "id": "263cb8a0-0077-4130-b042-2b4c7821747c",
   "metadata": {},
   "source": [
    "## 2. Feature Engineering"
   ]
  },
  {
   "cell_type": "markdown",
   "id": "cf52c906-48f4-4b36-b0fe-f680b4bf28fa",
   "metadata": {},
   "source": [
    "We check if the maximum VIF value exceeds the threshold of 5. If high multicollinearity is detected, we need to address it by removing highly correlated features or using regularization techniques like Ridge or Lasso regression."
   ]
  },
  {
   "cell_type": "markdown",
   "id": "562beb4e-2c17-4aa1-be8b-806c927943ee",
   "metadata": {},
   "source": [
    "### a. Check for Multicollinearity"
   ]
  },
  {
   "cell_type": "code",
   "execution_count": 12,
   "id": "3f821400-6fbe-4d00-93cd-d36e80a55ed0",
   "metadata": {},
   "outputs": [
    {
     "name": "stdout",
     "output_type": "stream",
     "text": [
      "Variance Inflation Factor (VIF):\n",
      "          VIF    Features\n",
      "0   11.511140      MedInc\n",
      "1    7.195917    HouseAge\n",
      "2   45.993601    AveRooms\n",
      "3   43.590314   AveBedrms\n",
      "4    2.935745  Population\n",
      "5    1.095243    AveOccup\n",
      "6  559.874071    Latitude\n",
      "7  633.711654   Longitude\n",
      "High multicollinearity detected!\n"
     ]
    }
   ],
   "source": [
    "# Check for multicollinearity using VIF\n",
    "features = df_imputed.drop('MedHouseVal', axis=1)\n",
    "vif = pd.DataFrame()\n",
    "vif[\"VIF\"] = [variance_inflation_factor(features.values, i) for i in range(features.shape[1])]\n",
    "vif[\"Features\"] = features.columns\n",
    "print(\"Variance Inflation Factor (VIF):\")\n",
    "print(vif)\n",
    "\n",
    "# If VIF values are greater than 5 or 10, it indicates high multicollinearity\n",
    "if vif['VIF'].max() > 5:\n",
    "    print(\"High multicollinearity detected!\")\n",
    "    # TODO: Address multicollinearity (e.g., remove highly correlated features, use regularization)\n",
    "else:\n",
    "    print(\"No significant multicollinearity found.\")"
   ]
  },
  {
   "cell_type": "markdown",
   "id": "08a1405a-a9d6-44e1-b1c3-ae46d83a348e",
   "metadata": {},
   "source": [
    "### b. Feature Selection"
   ]
  },
  {
   "cell_type": "markdown",
   "id": "fc52058a-221c-4268-91a9-4cbad47698c9",
   "metadata": {},
   "source": [
    "#### i. By looking at Correlation Analysis"
   ]
  },
  {
   "cell_type": "code",
   "execution_count": 17,
   "id": "26345bba-d23c-4ed5-adc1-d673088b93de",
   "metadata": {},
   "outputs": [],
   "source": [
    "scaler = StandardScaler()\n",
    "scaled_features = scaler.fit_transform(df)\n",
    "df_scaled = pd.DataFrame(scaled_features, columns=df.columns)\n",
    "\n",
    "# Select important features using correlation matrix\n",
    "corr_matrix = df_scaled.corr()\n",
    "corr_threshold = 0.5\n",
    "relevant_features_corr = corr_matrix[corr_matrix['MedHouseVal'].abs() > corr_threshold].index\n",
    "df_selected_corr = df_scaled[relevant_features_corr]"
   ]
  },
  {
   "cell_type": "code",
   "execution_count": 18,
   "id": "eac5ad06-8fb2-43fa-b717-d1e60b695846",
   "metadata": {},
   "outputs": [
    {
     "data": {
      "text/plain": [
       "Index(['MedInc', 'MedHouseVal'], dtype='object')"
      ]
     },
     "execution_count": 18,
     "metadata": {},
     "output_type": "execute_result"
    }
   ],
   "source": [
    "relevant_features_corr"
   ]
  },
  {
   "cell_type": "markdown",
   "id": "0125f554-01ac-471d-8a23-f0bf2eedc679",
   "metadata": {},
   "source": [
    "#### ii. With statistical tests using `SelectKBest`"
   ]
  },
  {
   "cell_type": "code",
   "execution_count": 19,
   "id": "f0a25140-b5b2-49d1-9acd-e343bedf2019",
   "metadata": {},
   "outputs": [],
   "source": [
    "k = 5  # Number of top features to select\n",
    "selector = SelectKBest(score_func=f_regression, k=k)\n",
    "selector.fit(df_scaled, y)\n",
    "selected_features_selectkbest = df_scaled.columns[selector.get_support()]\n",
    "df_selected_selectkbest = df_scaled[selected_features_selectkbest]"
   ]
  },
  {
   "cell_type": "code",
   "execution_count": 21,
   "id": "0563047d-79f0-4bbf-8c5f-ed7e2663766c",
   "metadata": {},
   "outputs": [
    {
     "data": {
      "text/plain": [
       "Index(['MedInc', 'HouseAge', 'AveRooms', 'Latitude', 'MedHouseVal'], dtype='object')"
      ]
     },
     "execution_count": 21,
     "metadata": {},
     "output_type": "execute_result"
    }
   ],
   "source": [
    "selected_features_selectkbest"
   ]
  },
  {
   "cell_type": "markdown",
   "id": "4d8d1cd3-cd39-44fc-bb5c-1daf48737aca",
   "metadata": {},
   "source": [
    "#### iii. With Recursive Feature Elimination (RFE)"
   ]
  },
  {
   "cell_type": "code",
   "execution_count": 22,
   "id": "e2ce4653-c730-41d2-83b6-a81404d6154c",
   "metadata": {},
   "outputs": [],
   "source": [
    "from sklearn.feature_selection import RFE\n",
    "from sklearn.linear_model import LinearRegression\n",
    "\n",
    "n_features = 5  # Number of features to select\n",
    "rfe = RFE(estimator=LinearRegression(), n_features_to_select=n_features)\n",
    "rfe.fit(df_scaled, y)\n",
    "selected_features_rfe = df_scaled.columns[rfe.support_]\n",
    "df_selected_rfe = df_scaled[selected_features_rfe]"
   ]
  },
  {
   "cell_type": "code",
   "execution_count": 23,
   "id": "ccb9c8ed-1ae1-49bb-84b8-fe694cff9ba5",
   "metadata": {},
   "outputs": [
    {
     "data": {
      "text/plain": [
       "Index(['AveRooms', 'AveBedrms', 'Latitude', 'Longitude', 'MedHouseVal'], dtype='object')"
      ]
     },
     "execution_count": 23,
     "metadata": {},
     "output_type": "execute_result"
    }
   ],
   "source": [
    "selected_features_rfe"
   ]
  },
  {
   "cell_type": "markdown",
   "id": "8fb84d9f-5cc6-43a8-9435-7dfd4d9422c6",
   "metadata": {},
   "source": [
    "### c. Create new relevant features"
   ]
  },
  {
   "cell_type": "code",
   "execution_count": 45,
   "id": "ddbd633a-166d-40f7-9935-306083f5f3b2",
   "metadata": {},
   "outputs": [],
   "source": [
    "from sklearn.preprocessing import PolynomialFeatures\n",
    "\n",
    "poly = PolynomialFeatures(degree=2, include_bias=False)\n",
    "poly_features = poly.fit_transform(df)\n",
    "poly_feature_names = poly.get_feature_names_out(df.columns)\n",
    "\n",
    "# Select specific polynomial features\n",
    "selected_poly_features = [\n",
    "    'MedInc',\n",
    "    'AveRooms',\n",
    "    'Latitude',\n",
    "    'MedHouseVal',\n",
    "    'MedInc^2',\n",
    "    'MedInc AveRooms',\n",
    "    'AveRooms^2',\n",
    "    'AveRooms MedHouseVal',\n",
    "    'Latitude^2',\n",
    "    'MedHouseVal^2'\n",
    "]"
   ]
  },
  {
   "cell_type": "code",
   "execution_count": 46,
   "id": "38e593b7-843e-4db9-93f3-9d5c9909ea8e",
   "metadata": {},
   "outputs": [
    {
     "data": {
      "text/plain": [
       "['MedInc',\n",
       " 'AveRooms',\n",
       " 'Latitude',\n",
       " 'MedHouseVal',\n",
       " 'MedInc^2',\n",
       " 'MedInc AveRooms',\n",
       " 'AveRooms^2',\n",
       " 'AveRooms MedHouseVal',\n",
       " 'Latitude^2',\n",
       " 'MedHouseVal^2']"
      ]
     },
     "execution_count": 46,
     "metadata": {},
     "output_type": "execute_result"
    }
   ],
   "source": [
    "selected_poly_features"
   ]
  },
  {
   "cell_type": "code",
   "execution_count": 47,
   "id": "b1ad5114-973b-4fb2-9547-8dd95ba2f733",
   "metadata": {},
   "outputs": [],
   "source": [
    "df_poly_selected = pd.DataFrame(poly_features, columns=poly_feature_names)[selected_poly_features]"
   ]
  },
  {
   "cell_type": "code",
   "execution_count": 48,
   "id": "3a85cb4f-b6f8-4683-aee3-f53495b6de04",
   "metadata": {},
   "outputs": [],
   "source": [
    "final_df = df_poly_selected"
   ]
  },
  {
   "cell_type": "code",
   "execution_count": 51,
   "id": "637f8427-612e-4b7b-801a-2bde787bef56",
   "metadata": {},
   "outputs": [
    {
     "data": {
      "text/html": [
       "<div>\n",
       "<style scoped>\n",
       "    .dataframe tbody tr th:only-of-type {\n",
       "        vertical-align: middle;\n",
       "    }\n",
       "\n",
       "    .dataframe tbody tr th {\n",
       "        vertical-align: top;\n",
       "    }\n",
       "\n",
       "    .dataframe thead th {\n",
       "        text-align: right;\n",
       "    }\n",
       "</style>\n",
       "<table border=\"1\" class=\"dataframe\">\n",
       "  <thead>\n",
       "    <tr style=\"text-align: right;\">\n",
       "      <th></th>\n",
       "      <th>MedInc</th>\n",
       "      <th>AveRooms</th>\n",
       "      <th>Latitude</th>\n",
       "      <th>MedHouseVal</th>\n",
       "      <th>MedInc^2</th>\n",
       "      <th>MedInc AveRooms</th>\n",
       "      <th>AveRooms^2</th>\n",
       "      <th>AveRooms MedHouseVal</th>\n",
       "      <th>Latitude^2</th>\n",
       "      <th>MedHouseVal^2</th>\n",
       "    </tr>\n",
       "  </thead>\n",
       "  <tbody>\n",
       "    <tr>\n",
       "      <th>0</th>\n",
       "      <td>8.3252</td>\n",
       "      <td>6.984127</td>\n",
       "      <td>37.88</td>\n",
       "      <td>4.526</td>\n",
       "      <td>69.308955</td>\n",
       "      <td>58.144254</td>\n",
       "      <td>48.778030</td>\n",
       "      <td>31.610159</td>\n",
       "      <td>1434.8944</td>\n",
       "      <td>20.484676</td>\n",
       "    </tr>\n",
       "    <tr>\n",
       "      <th>1</th>\n",
       "      <td>8.3014</td>\n",
       "      <td>6.238137</td>\n",
       "      <td>37.86</td>\n",
       "      <td>3.585</td>\n",
       "      <td>68.913242</td>\n",
       "      <td>51.785271</td>\n",
       "      <td>38.914354</td>\n",
       "      <td>22.363721</td>\n",
       "      <td>1433.3796</td>\n",
       "      <td>12.852225</td>\n",
       "    </tr>\n",
       "    <tr>\n",
       "      <th>2</th>\n",
       "      <td>7.2574</td>\n",
       "      <td>8.288136</td>\n",
       "      <td>37.85</td>\n",
       "      <td>3.521</td>\n",
       "      <td>52.669855</td>\n",
       "      <td>60.150315</td>\n",
       "      <td>68.693192</td>\n",
       "      <td>29.182525</td>\n",
       "      <td>1432.6225</td>\n",
       "      <td>12.397441</td>\n",
       "    </tr>\n",
       "    <tr>\n",
       "      <th>3</th>\n",
       "      <td>5.6431</td>\n",
       "      <td>5.817352</td>\n",
       "      <td>37.85</td>\n",
       "      <td>3.413</td>\n",
       "      <td>31.844578</td>\n",
       "      <td>32.827897</td>\n",
       "      <td>33.841580</td>\n",
       "      <td>19.854621</td>\n",
       "      <td>1432.6225</td>\n",
       "      <td>11.648569</td>\n",
       "    </tr>\n",
       "    <tr>\n",
       "      <th>4</th>\n",
       "      <td>3.8462</td>\n",
       "      <td>6.281853</td>\n",
       "      <td>37.85</td>\n",
       "      <td>3.422</td>\n",
       "      <td>14.793254</td>\n",
       "      <td>24.161264</td>\n",
       "      <td>39.461681</td>\n",
       "      <td>21.496502</td>\n",
       "      <td>1432.6225</td>\n",
       "      <td>11.710084</td>\n",
       "    </tr>\n",
       "    <tr>\n",
       "      <th>...</th>\n",
       "      <td>...</td>\n",
       "      <td>...</td>\n",
       "      <td>...</td>\n",
       "      <td>...</td>\n",
       "      <td>...</td>\n",
       "      <td>...</td>\n",
       "      <td>...</td>\n",
       "      <td>...</td>\n",
       "      <td>...</td>\n",
       "      <td>...</td>\n",
       "    </tr>\n",
       "    <tr>\n",
       "      <th>20635</th>\n",
       "      <td>1.5603</td>\n",
       "      <td>5.045455</td>\n",
       "      <td>39.48</td>\n",
       "      <td>0.781</td>\n",
       "      <td>2.434536</td>\n",
       "      <td>7.872423</td>\n",
       "      <td>25.456612</td>\n",
       "      <td>3.940500</td>\n",
       "      <td>1558.6704</td>\n",
       "      <td>0.609961</td>\n",
       "    </tr>\n",
       "    <tr>\n",
       "      <th>20636</th>\n",
       "      <td>2.5568</td>\n",
       "      <td>6.114035</td>\n",
       "      <td>39.49</td>\n",
       "      <td>0.771</td>\n",
       "      <td>6.537226</td>\n",
       "      <td>15.632365</td>\n",
       "      <td>37.381425</td>\n",
       "      <td>4.713921</td>\n",
       "      <td>1559.4601</td>\n",
       "      <td>0.594441</td>\n",
       "    </tr>\n",
       "    <tr>\n",
       "      <th>20637</th>\n",
       "      <td>1.7000</td>\n",
       "      <td>5.205543</td>\n",
       "      <td>39.43</td>\n",
       "      <td>0.923</td>\n",
       "      <td>2.890000</td>\n",
       "      <td>8.849423</td>\n",
       "      <td>27.097675</td>\n",
       "      <td>4.804716</td>\n",
       "      <td>1554.7249</td>\n",
       "      <td>0.851929</td>\n",
       "    </tr>\n",
       "    <tr>\n",
       "      <th>20638</th>\n",
       "      <td>1.8672</td>\n",
       "      <td>5.329513</td>\n",
       "      <td>39.43</td>\n",
       "      <td>0.847</td>\n",
       "      <td>3.486436</td>\n",
       "      <td>9.951266</td>\n",
       "      <td>28.403708</td>\n",
       "      <td>4.514097</td>\n",
       "      <td>1554.7249</td>\n",
       "      <td>0.717409</td>\n",
       "    </tr>\n",
       "    <tr>\n",
       "      <th>20639</th>\n",
       "      <td>2.3886</td>\n",
       "      <td>5.254717</td>\n",
       "      <td>39.37</td>\n",
       "      <td>0.894</td>\n",
       "      <td>5.705410</td>\n",
       "      <td>12.551417</td>\n",
       "      <td>27.612051</td>\n",
       "      <td>4.697717</td>\n",
       "      <td>1549.9969</td>\n",
       "      <td>0.799236</td>\n",
       "    </tr>\n",
       "  </tbody>\n",
       "</table>\n",
       "<p>20640 rows × 10 columns</p>\n",
       "</div>"
      ],
      "text/plain": [
       "       MedInc  AveRooms  Latitude  MedHouseVal   MedInc^2  MedInc AveRooms  \\\n",
       "0      8.3252  6.984127     37.88        4.526  69.308955        58.144254   \n",
       "1      8.3014  6.238137     37.86        3.585  68.913242        51.785271   \n",
       "2      7.2574  8.288136     37.85        3.521  52.669855        60.150315   \n",
       "3      5.6431  5.817352     37.85        3.413  31.844578        32.827897   \n",
       "4      3.8462  6.281853     37.85        3.422  14.793254        24.161264   \n",
       "...       ...       ...       ...          ...        ...              ...   \n",
       "20635  1.5603  5.045455     39.48        0.781   2.434536         7.872423   \n",
       "20636  2.5568  6.114035     39.49        0.771   6.537226        15.632365   \n",
       "20637  1.7000  5.205543     39.43        0.923   2.890000         8.849423   \n",
       "20638  1.8672  5.329513     39.43        0.847   3.486436         9.951266   \n",
       "20639  2.3886  5.254717     39.37        0.894   5.705410        12.551417   \n",
       "\n",
       "       AveRooms^2  AveRooms MedHouseVal  Latitude^2  MedHouseVal^2  \n",
       "0       48.778030             31.610159   1434.8944      20.484676  \n",
       "1       38.914354             22.363721   1433.3796      12.852225  \n",
       "2       68.693192             29.182525   1432.6225      12.397441  \n",
       "3       33.841580             19.854621   1432.6225      11.648569  \n",
       "4       39.461681             21.496502   1432.6225      11.710084  \n",
       "...           ...                   ...         ...            ...  \n",
       "20635   25.456612              3.940500   1558.6704       0.609961  \n",
       "20636   37.381425              4.713921   1559.4601       0.594441  \n",
       "20637   27.097675              4.804716   1554.7249       0.851929  \n",
       "20638   28.403708              4.514097   1554.7249       0.717409  \n",
       "20639   27.612051              4.697717   1549.9969       0.799236  \n",
       "\n",
       "[20640 rows x 10 columns]"
      ]
     },
     "execution_count": 51,
     "metadata": {},
     "output_type": "execute_result"
    }
   ],
   "source": [
    "final_df"
   ]
  },
  {
   "cell_type": "markdown",
   "id": "db8a197c-a8a5-4f08-ab59-b29548bdc210",
   "metadata": {},
   "source": [
    "## 3. Model Development"
   ]
  },
  {
   "cell_type": "markdown",
   "id": "e2fa3813-9774-4332-b731-3621bb33c6c3",
   "metadata": {},
   "source": [
    "#### i. Select the best traditional model"
   ]
  },
  {
   "cell_type": "code",
   "execution_count": 52,
   "id": "3aead3cb-f4b3-4025-9498-e1ebbde6c216",
   "metadata": {},
   "outputs": [
    {
     "name": "stdout",
     "output_type": "stream",
     "text": [
      "Best hyperparameters for Linear Regression: {}\n",
      "Best hyperparameters for Ridge: {'alpha': 0.1}\n",
      "Best hyperparameters for Lasso: {'alpha': 0.1}\n",
      "Best hyperparameters for Elastic Net: {'alpha': 0.1, 'l1_ratio': 0.2}\n",
      "Best hyperparameters for Decision Tree: {'max_depth': 7, 'min_samples_split': 10}\n",
      "Best hyperparameters for Random Forest: {'max_depth': 7, 'n_estimators': 300}\n",
      "Best hyperparameters for Gradient Boosting: {'learning_rate': 0.1, 'max_depth': 7, 'n_estimators': 100}\n",
      "Linear Regression:\n",
      "Mean Squared Error: 0.0000\n",
      "R-squared: 1.0000\n",
      "\n",
      "Ridge:\n",
      "Mean Squared Error: 0.0000\n",
      "R-squared: 1.0000\n",
      "\n",
      "Lasso:\n",
      "Mean Squared Error: 0.1272\n",
      "R-squared: 0.9029\n",
      "\n",
      "Elastic Net:\n",
      "Mean Squared Error: 0.0584\n",
      "R-squared: 0.9555\n",
      "\n",
      "Decision Tree:\n",
      "Mean Squared Error: 0.0001\n",
      "R-squared: 0.9999\n",
      "\n",
      "Random Forest:\n",
      "Mean Squared Error: 0.0000\n",
      "R-squared: 1.0000\n",
      "\n",
      "Gradient Boosting:\n",
      "Mean Squared Error: 0.0000\n",
      "R-squared: 1.0000\n",
      "\n"
     ]
    }
   ],
   "source": [
    "from sklearn.model_selection import train_test_split, GridSearchCV\n",
    "from sklearn.linear_model import LinearRegression, Ridge, Lasso, ElasticNet\n",
    "from sklearn.tree import DecisionTreeRegressor\n",
    "from sklearn.ensemble import RandomForestRegressor, GradientBoostingRegressor\n",
    "from sklearn.metrics import mean_squared_error, r2_score\n",
    "\n",
    "# Split the data into features (X) and target (y)\n",
    "X = final_df\n",
    "y = final_df['MedHouseVal']\n",
    "\n",
    "# Split the data into train and test sets\n",
    "X_train, X_test, y_train, y_test = train_test_split(X, y, test_size=0.2, random_state=42)\n",
    "\n",
    "# Define the models and their hyperparameters\n",
    "models = [\n",
    "    ('Linear Regression', LinearRegression()),\n",
    "    ('Ridge', Ridge()),\n",
    "    ('Lasso', Lasso()),\n",
    "    ('Elastic Net', ElasticNet()),\n",
    "    ('Decision Tree', DecisionTreeRegressor()),\n",
    "    ('Random Forest', RandomForestRegressor()),\n",
    "    ('Gradient Boosting', GradientBoostingRegressor())\n",
    "]\n",
    "\n",
    "# Define the hyperparameter grids for each model\n",
    "param_grids = [\n",
    "    {},  # Linear Regression has no hyperparameters\n",
    "    {'alpha': [0.1, 1.0, 10.0]},  # Ridge\n",
    "    {'alpha': [0.1, 1.0, 10.0]},  # Lasso\n",
    "    {'alpha': [0.1, 1.0, 10.0], 'l1_ratio': [0.2, 0.5, 0.8]},  # Elastic Net\n",
    "    {'max_depth': [3, 5, 7], 'min_samples_split': [2, 5, 10]},  # Decision Tree\n",
    "    {'n_estimators': [100, 200, 300], 'max_depth': [3, 5, 7]},  # Random Forest\n",
    "    {'n_estimators': [100, 200, 300], 'learning_rate': [0.01, 0.1, 1.0], 'max_depth': [3, 5, 7]}  # Gradient Boosting\n",
    "]\n",
    "\n",
    "# Perform grid search for each model\n",
    "best_models = []\n",
    "for name, model in models:\n",
    "    grid_search = GridSearchCV(estimator=model, param_grid=param_grids[models.index((name, model))], cv=5, scoring='neg_mean_squared_error')\n",
    "    grid_search.fit(X_train, y_train)\n",
    "    best_models.append((name, grid_search.best_estimator_))\n",
    "    print(f\"Best hyperparameters for {name}: {grid_search.best_params_}\")\n",
    "\n",
    "# Evaluate the models on the test set\n",
    "for name, model in best_models:\n",
    "    y_pred = model.predict(X_test)\n",
    "    mse = mean_squared_error(y_test, y_pred)\n",
    "    r2 = r2_score(y_test, y_pred)\n",
    "    print(f\"{name}:\")\n",
    "    print(f\"Mean Squared Error: {mse:.4f}\")\n",
    "    print(f\"R-squared: {r2:.4f}\\n\")"
   ]
  },
  {
   "cell_type": "markdown",
   "id": "5b372eea-8776-46b5-9125-6978f3992fd9",
   "metadata": {},
   "source": [
    "#### ii. Develop a Bayesian model using Scikit-Learn's Bayesian Ridge model"
   ]
  },
  {
   "cell_type": "code",
   "execution_count": 55,
   "id": "c3eaaf3a-2726-44f6-9613-5315594355e3",
   "metadata": {},
   "outputs": [
    {
     "name": "stdout",
     "output_type": "stream",
     "text": [
      "BayesianRidge:\n",
      "Mean Squared Error: 0.0000\n",
      "R-squared: 1.0000\n",
      "\n"
     ]
    }
   ],
   "source": [
    "from sklearn.linear_model import BayesianRidge\n",
    "\n",
    "# Create and train the BayesianRidge model\n",
    "bayesian_ridge = BayesianRidge()\n",
    "bayesian_ridge.fit(X_train, y_train)\n",
    "\n",
    "# Evaluate the model on the test set\n",
    "y_pred_bayesian_ridge = bayesian_ridge.predict(X_test)\n",
    "mse_bayesian_ridge = mean_squared_error(y_test, y_pred_bayesian_ridge)\n",
    "r2_bayesian_ridge = r2_score(y_test, y_pred_bayesian_ridge)\n",
    "\n",
    "print(\"BayesianRidge:\")\n",
    "print(f\"Mean Squared Error: {mse_bayesian_ridge:.4f}\")\n",
    "print(f\"R-squared: {r2_bayesian_ridge:.4f}\\n\")"
   ]
  },
  {
   "cell_type": "markdown",
   "id": "8aeea071-e570-4980-9611-13b6d1bf38e6",
   "metadata": {},
   "source": [
    "#### iii. Develop my own Bayesian Regression Model"
   ]
  },
  {
   "cell_type": "code",
   "execution_count": 56,
   "id": "8b2039d3-a5a3-43c0-9580-03a06117cf7e",
   "metadata": {},
   "outputs": [
    {
     "name": "stdout",
     "output_type": "stream",
     "text": [
      "Bayesian Regression (Mathematical Implementation):\n",
      "Mean Squared Error: 0.0000\n",
      "R-squared: 1.0000\n"
     ]
    }
   ],
   "source": [
    "import numpy as np\n",
    "from scipy.stats import multivariate_normal\n",
    "\n",
    "class BayesianRegression:\n",
    "    def __init__(self, alpha=1.0, beta=1.0):\n",
    "        self.alpha = alpha\n",
    "        self.beta = beta\n",
    "        self.mean = None\n",
    "        self.cov = None\n",
    "\n",
    "    def fit(self, X, y):\n",
    "        n_samples, n_features = X.shape\n",
    "        X_train = np.concatenate((np.ones((n_samples, 1)), X), axis=1)\n",
    "\n",
    "        precision = self.alpha * np.eye(n_features + 1) + self.beta * X_train.T.dot(X_train)\n",
    "        self.cov = np.linalg.inv(precision)\n",
    "        self.mean = self.beta * self.cov.dot(X_train.T).dot(y)\n",
    "\n",
    "    def predict(self, X):\n",
    "        n_samples = X.shape[0]\n",
    "        X_test = np.concatenate((np.ones((n_samples, 1)), X), axis=1)\n",
    "        y_pred = X_test.dot(self.mean)\n",
    "        return y_pred\n",
    "\n",
    "# Create and train the Bayesian Regression model\n",
    "bayesian_regression = BayesianRegression(alpha=1.0, beta=1.0)\n",
    "bayesian_regression.fit(X_train, y_train)\n",
    "\n",
    "# Evaluate the model on the test set\n",
    "y_pred_bayesian_regression = bayesian_regression.predict(X_test)\n",
    "mse_bayesian_regression = mean_squared_error(y_test, y_pred_bayesian_regression)\n",
    "r2_bayesian_regression = r2_score(y_test, y_pred_bayesian_regression)\n",
    "\n",
    "print(\"Bayesian Regression (Mathematical Implementation):\")\n",
    "print(f\"Mean Squared Error: {mse_bayesian_regression:.4f}\")\n",
    "print(f\"R-squared: {r2_bayesian_regression:.4f}\")"
   ]
  },
  {
   "cell_type": "markdown",
   "id": "f7ff390b-b4d7-417c-9922-3183edf328ca",
   "metadata": {},
   "source": [
    "## 4. Model Training & Evaluation"
   ]
  }
 ],
 "metadata": {
  "kernelspec": {
   "display_name": "Python 3 (ipykernel)",
   "language": "python",
   "name": "python3"
  },
  "language_info": {
   "codemirror_mode": {
    "name": "ipython",
    "version": 3
   },
   "file_extension": ".py",
   "mimetype": "text/x-python",
   "name": "python",
   "nbconvert_exporter": "python",
   "pygments_lexer": "ipython3",
   "version": "3.9.6"
  }
 },
 "nbformat": 4,
 "nbformat_minor": 5
}
